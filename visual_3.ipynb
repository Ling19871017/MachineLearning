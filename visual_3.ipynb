{
 "cells": [
  {
   "cell_type": "code",
   "execution_count": 1,
   "metadata": {
    "collapsed": true
   },
   "outputs": [],
   "source": [
    "import mpl_toolkits.mplot3d.axes3d as p3\n",
    "import pylab as p\n",
    "import numpy as np\n",
    "import matplotlib.pyplot as plt\n",
    "import pickle"
   ]
  },
  {
   "cell_type": "code",
   "execution_count": 2,
   "metadata": {
    "collapsed": false
   },
   "outputs": [],
   "source": [
    "#3d plot example\n",
    "fig=p.figure()  \n",
    "point_num=100  \n",
    "data=np.random.random((point_num,3))  \n",
    "colors=[['b','g','r'][int(i*2.999)] for i in np.random.random((point_num,1))]  \n",
    "ax = p3.Axes3D(fig)  \n",
    "ax.scatter(data[:,0], data[:,1], data[:,2], c=colors)  \n",
    "ax.set_xlabel('X')  \n",
    "ax.set_ylabel('Y')  \n",
    "ax.set_zlabel('Z')  \n",
    "fig.add_axes(ax)  \n",
    "p.show()  "
   ]
  },
  {
   "cell_type": "code",
   "execution_count": 3,
   "metadata": {
    "collapsed": false
   },
   "outputs": [],
   "source": [
    "#读取数据\n",
    "with open('E:/ct_cube/val_data.pkl', 'rb') as f:\n",
    "    data = pickle.load(f)\n",
    "    cube = data[0, 0]"
   ]
  },
  {
   "cell_type": "code",
   "execution_count": 22,
   "metadata": {
    "collapsed": false
   },
   "outputs": [],
   "source": [
    "def focus_display(cube, height, long, width, threshold):\n",
    "    cube_1 = []\n",
    "    for i in range(height):\n",
    "        for j in range(long, width, 1):\n",
    "            for k in range(long, width, 1):\n",
    "                point = cube[i, j, k]\n",
    "                if point > threshold :\n",
    "                    arr = [i, j, k]\n",
    "                    cube_1.append(arr)\n",
    "    return np.array(cube_1)"
   ]
  },
  {
   "cell_type": "code",
   "execution_count": 23,
   "metadata": {
    "collapsed": true
   },
   "outputs": [],
   "source": [
    "cube_1 = focus_display(cube, 60, 20, 40, 0)"
   ]
  },
  {
   "cell_type": "code",
   "execution_count": 26,
   "metadata": {
    "collapsed": false
   },
   "outputs": [
    {
     "data": {
      "text/plain": [
       "(60, 60, 60)"
      ]
     },
     "execution_count": 26,
     "metadata": {},
     "output_type": "execute_result"
    }
   ],
   "source": [
    "cube_1.shape"
   ]
  },
  {
   "cell_type": "code",
   "execution_count": 25,
   "metadata": {
    "collapsed": false
   },
   "outputs": [],
   "source": [
    "fig=p.figure()  \n",
    "point_num=cube_1.shape[0]\n",
    "colors=[['b','g','r'][int(i*2.999)] for i in np.random.random((point_num,1))]  \n",
    "ax = p3.Axes3D(fig)  \n",
    "ax.scatter(cube_1[:,1], cube_1[:,2], cube_1[:,0], c=colors)  \n",
    "ax.set_xlabel('width')  \n",
    "ax.set_ylabel('long')  \n",
    "ax.set_zlabel('height')  \n",
    "fig.add_axes(ax)  \n",
    "p.show()  "
   ]
  },
  {
   "cell_type": "code",
   "execution_count": null,
   "metadata": {
    "collapsed": true
   },
   "outputs": [],
   "source": []
  }
 ],
 "metadata": {
  "kernelspec": {
   "display_name": "Python 3",
   "language": "python",
   "name": "python3"
  },
  "language_info": {
   "codemirror_mode": {
    "name": "ipython",
    "version": 3
   },
   "file_extension": ".py",
   "mimetype": "text/x-python",
   "name": "python",
   "nbconvert_exporter": "python",
   "pygments_lexer": "ipython3",
   "version": "3.5.1"
  }
 },
 "nbformat": 4,
 "nbformat_minor": 0
}
